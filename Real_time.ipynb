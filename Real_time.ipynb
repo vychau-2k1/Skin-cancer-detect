{
  "nbformat": 4,
  "nbformat_minor": 0,
  "metadata": {
    "colab": {
      "name": "Real_time.ipynb",
      "provenance": []
    },
    "kernelspec": {
      "name": "python3",
      "display_name": "Python 3"
    },
    "language_info": {
      "name": "python"
    },
    "accelerator": "GPU"
  },
  "cells": [
    {
      "cell_type": "code",
      "execution_count": 1,
      "metadata": {
        "colab": {
          "base_uri": "https://localhost:8080/"
        },
        "id": "pKcdkv-Fr_ex",
        "outputId": "94725d3a-1e6a-444c-bec0-b72d70a7e0f8"
      },
      "outputs": [
        {
          "output_type": "stream",
          "name": "stdout",
          "text": [
            "Mounted at /content/drive\n"
          ]
        }
      ],
      "source": [
        "from google.colab import drive\n",
        "drive.mount('/content/drive')"
      ]
    },
    {
      "cell_type": "code",
      "source": [
        "import tensorflow as tf\n",
        "from tensorflow import keras\n",
        "\n",
        "model = tf.keras.models.load_model(\"/content/drive/MyDrive/Project_AI/final_cnn.h5\")\n",
        "classes = { 0: 'akie, Actinic keratoses and intraepithelial carcinomae',\n",
        "            1:'bcc, basal cell carcinoma',\n",
        "            2:'bkl, benign keratosis-like lesions',\n",
        "            3: 'df, dermatofibroma',\n",
        "            4: 'nv, melanocytic nevi',\n",
        "            5: 'vasc, vascular lesions',\n",
        "            6: 'mel, melanoma'}"
      ],
      "metadata": {
        "id": "sfj7iTChtYvb"
      },
      "execution_count": 3,
      "outputs": []
    },
    {
      "cell_type": "code",
      "source": [
        "from collections import deque\n",
        "import argparse\n",
        "import pickle\n",
        "import cv2\n",
        "import numpy as np\n",
        "\n",
        "mean = np.array([123.68, 116.779, 103.939][::1], dtype=\"float32\")\n",
        "Q = deque(maxlen=128)\n",
        "# Read Video\n",
        "vs = cv2.VideoCapture('/content/drive/MyDrive/Project_AI/Akie.mp4') #Directory of video\n",
        "writer = None\n",
        "(W, H) = (None, None)\n",
        "# Loop over frames from the video file stream\n",
        "while True:\n",
        "\t# Read the next frame from the file\n",
        "\t(grabbed, frame) = vs.read()\n",
        "\t# If the frame was not grabbed, then we have reached the end of the stream\n",
        "\tif not grabbed:\n",
        "\t\tbreak\n",
        "\t# If the frame dimensions are empty, grab them\n",
        "\tif W is None or H is None:\n",
        "\t\t(H, W) = frame.shape[:2]\n",
        "  # Clone the output frame, then convert it from BGR to RGB ordering, resize the\n",
        "  # frame to a fixed 28x28, and then perform mean subtraction\n",
        "\toutput = frame.copy()\n",
        "\tframe = cv2.cvtColor(frame, cv2.COLOR_BGR2RGB)\n",
        "\tframe = cv2.resize(frame, (28, 28)).astype(\"float32\")\n",
        "\tframe -= mean\n",
        "  # Make predictions on the frame and then update the predictions queue\n",
        "\tpreds = model.predict(np.expand_dims(frame, axis=0))[0] #Model start predict\n",
        "\tQ.append(preds)\n",
        "\t# Perform prediction averaging over the current history of previous predictions\n",
        "\tresults = np.array(Q).mean(axis=0)\n",
        "\ti = np.argmax(results)\n",
        "\tlabel = classes[i]\n",
        "  # Draw the activity on the output frame\n",
        "\ttext = \"Prediction is: {}\".format(label)\n",
        "\tcv2.putText(output, text, (35, 50), cv2.FONT_HERSHEY_SIMPLEX,\n",
        "\t\t2, (0, 0, 255), 5)\n",
        "\t# Check if the video writer is None\n",
        "\tif writer is None:\n",
        "\t\t# Initialize our video writer\n",
        "\t\tfourcc = cv2.VideoWriter_fourcc(*\"MJPG\")\n",
        "\t\twriter = cv2.VideoWriter('/content/drive/MyDrive/Project_AI/Akie_predicted.avi', fourcc, 30, (W, H), True) #Add directory of output video\n",
        "\t# Write the output frame to disk\n",
        "\twriter.write(output)\n",
        "\tkey = cv2.waitKey(1) & 0xFF\n",
        "\t# If the `q` key was pressed, break from the loop\n",
        "\tif key == ord(\"q\"):\n",
        "\t\tbreak\n",
        "# release the file pointers\n",
        "print(\"Video create successfully!!\")\n",
        "writer.release()\n",
        "vs.release()"
      ],
      "metadata": {
        "colab": {
          "base_uri": "https://localhost:8080/"
        },
        "id": "wVtYEJ4RucVw",
        "outputId": "d2d4798a-0fe0-4a12-e4a6-9527b670e4f4"
      },
      "execution_count": 6,
      "outputs": [
        {
          "output_type": "stream",
          "name": "stdout",
          "text": [
            "Video create successfully!!\n"
          ]
        }
      ]
    },
    {
      "cell_type": "code",
      "source": [
        ""
      ],
      "metadata": {
        "id": "3lCDiZYDyHtV"
      },
      "execution_count": null,
      "outputs": []
    }
  ]
}