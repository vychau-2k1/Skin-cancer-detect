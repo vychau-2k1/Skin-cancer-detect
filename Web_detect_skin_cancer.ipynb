{
 "cells": [
  {
   "cell_type": "code",
   "execution_count": 2,
   "id": "a443d87a",
   "metadata": {},
   "outputs": [
    {
     "name": "stdout",
     "output_type": "stream",
     "text": [
      "Requirement already satisfied: gradio in c:\\users\\user1\\anaconda3\\lib\\site-packages (3.0.14)\n",
      "Requirement already satisfied: pycryptodome in c:\\users\\user1\\anaconda3\\lib\\site-packages (from gradio) (3.14.1)\n",
      "Requirement already satisfied: uvicorn in c:\\users\\user1\\anaconda3\\lib\\site-packages (from gradio) (0.17.6)\n",
      "Requirement already satisfied: orjson in c:\\users\\user1\\anaconda3\\lib\\site-packages (from gradio) (3.7.2)\n",
      "Requirement already satisfied: pillow in c:\\users\\user1\\anaconda3\\lib\\site-packages (from gradio) (8.4.0)\n",
      "Requirement already satisfied: analytics-python in c:\\users\\user1\\anaconda3\\lib\\site-packages (from gradio) (1.4.0)\n",
      "Requirement already satisfied: Jinja2 in c:\\users\\user1\\anaconda3\\lib\\site-packages (from gradio) (2.11.3)\n",
      "Requirement already satisfied: ffmpy in c:\\users\\user1\\anaconda3\\lib\\site-packages (from gradio) (0.3.0)\n",
      "Requirement already satisfied: numpy in c:\\users\\user1\\anaconda3\\lib\\site-packages (from gradio) (1.20.3)\n",
      "Requirement already satisfied: fastapi in c:\\users\\user1\\anaconda3\\lib\\site-packages (from gradio) (0.78.0)\n",
      "Requirement already satisfied: pandas in c:\\users\\user1\\anaconda3\\lib\\site-packages (from gradio) (1.3.4)\n",
      "Requirement already satisfied: python-multipart in c:\\users\\user1\\anaconda3\\lib\\site-packages (from gradio) (0.0.5)\n",
      "Requirement already satisfied: pydub in c:\\users\\user1\\anaconda3\\lib\\site-packages (from gradio) (0.25.1)\n",
      "Requirement already satisfied: matplotlib in c:\\users\\user1\\anaconda3\\lib\\site-packages (from gradio) (3.4.3)\n",
      "Requirement already satisfied: aiohttp in c:\\users\\user1\\anaconda3\\lib\\site-packages (from gradio) (3.8.1)\n",
      "Requirement already satisfied: markdown-it-py[linkify,plugins] in c:\\users\\user1\\anaconda3\\lib\\site-packages (from gradio) (2.1.0)\n",
      "Requirement already satisfied: requests in c:\\users\\user1\\anaconda3\\lib\\site-packages (from gradio) (2.26.0)\n",
      "Requirement already satisfied: paramiko in c:\\users\\user1\\anaconda3\\lib\\site-packages (from gradio) (2.7.2)\n",
      "Requirement already satisfied: aiosignal>=1.1.2 in c:\\users\\user1\\anaconda3\\lib\\site-packages (from aiohttp->gradio) (1.2.0)\n",
      "Requirement already satisfied: charset-normalizer<3.0,>=2.0 in c:\\users\\user1\\anaconda3\\lib\\site-packages (from aiohttp->gradio) (2.0.4)\n",
      "Requirement already satisfied: multidict<7.0,>=4.5 in c:\\users\\user1\\anaconda3\\lib\\site-packages (from aiohttp->gradio) (6.0.2)\n",
      "Requirement already satisfied: attrs>=17.3.0 in c:\\users\\user1\\anaconda3\\lib\\site-packages (from aiohttp->gradio) (21.2.0)\n",
      "Requirement already satisfied: frozenlist>=1.1.1 in c:\\users\\user1\\anaconda3\\lib\\site-packages (from aiohttp->gradio) (1.3.0)\n",
      "Requirement already satisfied: yarl<2.0,>=1.0 in c:\\users\\user1\\anaconda3\\lib\\site-packages (from aiohttp->gradio) (1.7.2)\n",
      "Requirement already satisfied: async-timeout<5.0,>=4.0.0a3 in c:\\users\\user1\\anaconda3\\lib\\site-packages (from aiohttp->gradio) (4.0.2)\n",
      "Requirement already satisfied: idna>=2.0 in c:\\users\\user1\\anaconda3\\lib\\site-packages (from yarl<2.0,>=1.0->aiohttp->gradio) (3.2)\n",
      "Requirement already satisfied: monotonic>=1.5 in c:\\users\\user1\\anaconda3\\lib\\site-packages (from analytics-python->gradio) (1.6)\n",
      "Requirement already satisfied: python-dateutil>2.1 in c:\\users\\user1\\anaconda3\\lib\\site-packages (from analytics-python->gradio) (2.8.2)\n",
      "Requirement already satisfied: six>=1.5 in c:\\users\\user1\\anaconda3\\lib\\site-packages (from analytics-python->gradio) (1.16.0)\n",
      "Requirement already satisfied: backoff==1.10.0 in c:\\users\\user1\\anaconda3\\lib\\site-packages (from analytics-python->gradio) (1.10.0)\n",
      "Requirement already satisfied: urllib3<1.27,>=1.21.1 in c:\\users\\user1\\anaconda3\\lib\\site-packages (from requests->gradio) (1.26.7)\n",
      "Requirement already satisfied: certifi>=2017.4.17 in c:\\users\\user1\\anaconda3\\lib\\site-packages (from requests->gradio) (2021.10.8)\n",
      "Requirement already satisfied: pydantic!=1.7,!=1.7.1,!=1.7.2,!=1.7.3,!=1.8,!=1.8.1,<2.0.0,>=1.6.2 in c:\\users\\user1\\anaconda3\\lib\\site-packages (from fastapi->gradio) (1.9.1)\n",
      "Requirement already satisfied: starlette==0.19.1 in c:\\users\\user1\\anaconda3\\lib\\site-packages (from fastapi->gradio) (0.19.1)\n",
      "Requirement already satisfied: anyio<5,>=3.4.0 in c:\\users\\user1\\anaconda3\\lib\\site-packages (from starlette==0.19.1->fastapi->gradio) (3.4.0)\n",
      "Requirement already satisfied: typing-extensions>=3.10.0 in c:\\users\\user1\\anaconda3\\lib\\site-packages (from starlette==0.19.1->fastapi->gradio) (3.10.0.2)\n",
      "Requirement already satisfied: sniffio>=1.1 in c:\\users\\user1\\anaconda3\\lib\\site-packages (from anyio<5,>=3.4.0->starlette==0.19.1->fastapi->gradio) (1.2.0)\n",
      "Requirement already satisfied: MarkupSafe>=0.23 in c:\\users\\user1\\anaconda3\\lib\\site-packages (from Jinja2->gradio) (1.1.1)\n",
      "Requirement already satisfied: mdurl~=0.1 in c:\\users\\user1\\anaconda3\\lib\\site-packages (from markdown-it-py[linkify,plugins]->gradio) (0.1.1)\n",
      "Requirement already satisfied: linkify-it-py~=1.0 in c:\\users\\user1\\anaconda3\\lib\\site-packages (from markdown-it-py[linkify,plugins]->gradio) (1.0.3)\n",
      "Requirement already satisfied: mdit-py-plugins in c:\\users\\user1\\anaconda3\\lib\\site-packages (from markdown-it-py[linkify,plugins]->gradio) (0.3.0)\n",
      "Requirement already satisfied: uc-micro-py in c:\\users\\user1\\anaconda3\\lib\\site-packages (from linkify-it-py~=1.0->markdown-it-py[linkify,plugins]->gradio) (1.0.1)\n",
      "Requirement already satisfied: pyparsing>=2.2.1 in c:\\users\\user1\\anaconda3\\lib\\site-packages (from matplotlib->gradio) (3.0.4)\n",
      "Requirement already satisfied: cycler>=0.10 in c:\\users\\user1\\anaconda3\\lib\\site-packages (from matplotlib->gradio) (0.10.0)\n",
      "Requirement already satisfied: kiwisolver>=1.0.1 in c:\\users\\user1\\anaconda3\\lib\\site-packages (from matplotlib->gradio) (1.3.1)\n",
      "Requirement already satisfied: pytz>=2017.3 in c:\\users\\user1\\anaconda3\\lib\\site-packages (from pandas->gradio) (2021.3)\n",
      "Requirement already satisfied: pynacl>=1.0.1 in c:\\users\\user1\\anaconda3\\lib\\site-packages (from paramiko->gradio) (1.4.0)\n",
      "Requirement already satisfied: bcrypt>=3.1.3 in c:\\users\\user1\\anaconda3\\lib\\site-packages (from paramiko->gradio) (3.2.0)\n",
      "Requirement already satisfied: cryptography>=2.5 in c:\\users\\user1\\anaconda3\\lib\\site-packages (from paramiko->gradio) (3.4.8)\n",
      "Requirement already satisfied: cffi>=1.1 in c:\\users\\user1\\anaconda3\\lib\\site-packages (from bcrypt>=3.1.3->paramiko->gradio) (1.14.6)\n",
      "Requirement already satisfied: pycparser in c:\\users\\user1\\anaconda3\\lib\\site-packages (from cffi>=1.1->bcrypt>=3.1.3->paramiko->gradio) (2.20)\n",
      "Requirement already satisfied: click>=7.0 in c:\\users\\user1\\anaconda3\\lib\\site-packages (from uvicorn->gradio) (8.0.3)\n",
      "Requirement already satisfied: h11>=0.8 in c:\\users\\user1\\anaconda3\\lib\\site-packages (from uvicorn->gradio) (0.13.0)\n",
      "Requirement already satisfied: asgiref>=3.4.0 in c:\\users\\user1\\anaconda3\\lib\\site-packages (from uvicorn->gradio) (3.5.2)\n",
      "Requirement already satisfied: colorama in c:\\users\\user1\\anaconda3\\lib\\site-packages (from click>=7.0->uvicorn->gradio) (0.4.4)\n"
     ]
    }
   ],
   "source": [
    "!pip install gradio "
   ]
  },
  {
   "cell_type": "code",
   "execution_count": 3,
   "id": "935b9352",
   "metadata": {},
   "outputs": [
    {
     "name": "stdout",
     "output_type": "stream",
     "text": [
      "Requirement already satisfied: anyio==3.4.0 in c:\\users\\user1\\anaconda3\\lib\\site-packages (3.4.0)\n",
      "Requirement already satisfied: idna>=2.8 in c:\\users\\user1\\anaconda3\\lib\\site-packages (from anyio==3.4.0) (3.2)\n",
      "Requirement already satisfied: sniffio>=1.1 in c:\\users\\user1\\anaconda3\\lib\\site-packages (from anyio==3.4.0) (1.2.0)\n"
     ]
    }
   ],
   "source": [
    "!pip install anyio==3.4.0"
   ]
  },
  {
   "cell_type": "code",
   "execution_count": 1,
   "id": "66297a78",
   "metadata": {},
   "outputs": [],
   "source": [
    "import tensorflow as tf\n",
    "from tensorflow import keras\n",
    "import matplotlib.pyplot as plt\n",
    "import numpy as np\n",
    "from tensorflow.keras.preprocessing.image import load_img, img_to_array"
   ]
  },
  {
   "cell_type": "code",
   "execution_count": 2,
   "id": "cc8e4e19",
   "metadata": {},
   "outputs": [],
   "source": [
    "model = tf.keras.models.load_model(\"final_cnn.h5\") #Load model predict\n",
    "classes = { 0: 'akie, Actinic keratoses and intraepithelial carcinomae',\n",
    "            1:'bcc, basal cell carcinoma',\n",
    "            2:'bkl, benign keratosis-like lesions',\n",
    "            3: 'df, dermatofibroma',\n",
    "            4: 'nv, melanocytic nevi',\n",
    "            5: 'vasc, vascular lesions',\n",
    "            6: 'mel, melanoma'}\n",
    "advice = { 0: 'Bạn có thể giảm nguy cơ bị dày sừng quang hóa bằng cách bảo vệ da khỏi ánh nắng mặt trời và tia cực tím. Nếu bạn nghĩ rằng bạn bị akie, hãy nói chuyện với nhà cung cấp dịch vụ chăm sóc sức khỏe của bạn về chẩn đoán và điều trị. Bạn nên tìm cách điều trị dày sừng quang hóa càng sớm, bạn càng ít có khả năng bị ung thư da.',\n",
    "           1: 'Bạn có thể giảm nguy cơ bị ung thư biểu mô tế bào đáy bằng cách tránh ánh nắng trực tiếp giữa ban ngày, thường xuyên thoa kem chống nắng, mặc quần áo bảo hộ, nếu bạn nghĩ mình bị bcc, hãy nhanh chóng đến bác sĩ kiểm tra càng sớm càng tốt và thường xuyên cập nhật tình hình về da của bạn cho bác sĩ',\n",
    "           2: 'Hãy đến gặp bác sĩ nếu sự xuất hiện của nốt mụn này khiến bạn khó chịu hoặc nếu nó bị kích ứng hoặc chảy máu khi quần áo của bạn cọ xát với nó. Ngoài ra, hãy đến gặp bác sĩ nếu bạn nhận thấy những thay đổi đáng ngờ trên da, chẳng hạn như vết loét hoặc mụn phát triển nhanh chóng, chảy máu và không lành. Đây có thể là dấu hiệu của ung thư da.',\n",
    "           3: 'May mắn thay, u xơ da không phải là ung thư, tuy nhiên bạn nên đến gặp bác sĩ để có thể nhận được một chẩn đoán chính xác hơn',\n",
    "           4: 'Việc sử dụng kem chống nắng làm giảm sự phát triển của nevi mới trên các vị trí cơ thể tiếp xúc với ánh nắng liên tục, đặc biệt là ở trẻ em bị tàn nhang, tuy nhiên khi bạn được có một vài dấu hiệu của căn bệnh này thì bạn nên đến bác sĩ càng sớm càng tốt để tránh bị chuyển biến xấu đi',\n",
    "           5: 'Thực hiện các thay đổi lối sống lành mạnh, chẳng hạn như ăn một chế độ ăn uống có lợi cho tim và tập thể dục nhiều hơn .. Không hút thuốc. Kiểm tra huyết áp và cholesterol của bạn. Nếu bạn bị tiểu đường, hãy kiểm soát lượng đường trong máu của bạn. Cố gắng không ngồi hoặc đứng lên trong thời gian dài. Đến gặp bác sĩ càng sớm càng tốt để được điều trị kịp thời',\n",
    "           6: 'Không có cách chính xác nào có thể làm giảm nguy cơ mắc bệnh khối u ác tính, tuy nhiên bạn có thể áp dụng một số biện pháp đề phòng như: tránh tiếp xúc nhiều với tia UV, kiểm tra các nốt ruồi bất thường, tránh làm suy yếu hệ miễn dịch. Nếu bạn có những triệu chúng của bệnh này, bạn nên càng sớm càng tốt đi gặp bác sĩ để kịp điều trị sớm'}"
   ]
  },
  {
   "cell_type": "code",
   "execution_count": 3,
   "id": "843aa6b1",
   "metadata": {},
   "outputs": [],
   "source": [
    "#Function predict image\n",
    "def predict_img(img):\n",
    "  img = img_to_array(img)\n",
    "  img = img.reshape(1,28,28,3)\n",
    "  print(classes[np.argmax(model.predict(img),axis = 1)[0]])\n",
    "  predict_results = model.predict(img)[0]\n",
    "  confidences = {classes[i]: float(predict_results[i]) for i in range(len(predict_results))}\n",
    "  print(confidences)\n",
    "  ad = {advice[i]: float(predict_results[i]) for i in range(len(predict_results))}\n",
    "  return confidences, ad"
   ]
  },
  {
   "cell_type": "code",
   "execution_count": null,
   "id": "097eea31",
   "metadata": {},
   "outputs": [
    {
     "name": "stderr",
     "output_type": "stream",
     "text": [
      "C:\\Users\\user1\\anaconda3\\lib\\site-packages\\gradio\\deprecation.py:40: UserWarning: `optional` parameter is deprecated, and it has no effect\n",
      "  warnings.warn(value)\n",
      "C:\\Users\\user1\\anaconda3\\lib\\site-packages\\gradio\\deprecation.py:40: UserWarning: The 'type' parameter has been deprecated. Use the Number component instead.\n",
      "  warnings.warn(value)\n"
     ]
    },
    {
     "name": "stdout",
     "output_type": "stream",
     "text": [
      "Running on local URL:  http://127.0.0.1:7860/\n",
      "\n",
      "To create a public link, set `share=True` in `launch()`.\n"
     ]
    },
    {
     "data": {
      "text/html": [
       "<div><iframe src=\"http://127.0.0.1:7860/\" width=\"900\" height=\"500\" allow=\"autoplay; camera; microphone;\" frameborder=\"0\" allowfullscreen></iframe></div>"
      ],
      "text/plain": [
       "<IPython.core.display.HTML object>"
      ]
     },
     "metadata": {},
     "output_type": "display_data"
    },
    {
     "name": "stdout",
     "output_type": "stream",
     "text": [
      "1/1 [==============================] - 0s 73ms/step\n",
      "akie, Actinic keratoses and intraepithelial carcinomae\n",
      "1/1 [==============================] - 0s 39ms/step\n",
      "{'akie, Actinic keratoses and intraepithelial carcinomae': 0.6317542791366577, 'bcc, basal cell carcinoma': 0.19488625228405, 'bkl, benign keratosis-like lesions': 5.2183262596372515e-05, 'df, dermatofibroma': 0.010350472293794155, 'nv, melanocytic nevi': 0.1628536880016327, 'vasc, vascular lesions': 6.663725798716769e-05, 'mel, melanoma': 3.647581615950912e-05}\n",
      "1/1 [==============================] - 0s 55ms/step\n",
      "nv, melanocytic nevi\n",
      "1/1 [==============================] - 0s 46ms/step\n",
      "{'akie, Actinic keratoses and intraepithelial carcinomae': 6.87505543880223e-20, 'bcc, basal cell carcinoma': 1.522027281986027e-09, 'bkl, benign keratosis-like lesions': 2.3835001528027533e-08, 'df, dermatofibroma': 2.2708825922132525e-13, 'nv, melanocytic nevi': 1.0, 'vasc, vascular lesions': 8.471764956219374e-13, 'mel, melanoma': 2.1791485949052003e-08}\n",
      "1/1 [==============================] - 0s 48ms/step\n",
      "nv, melanocytic nevi\n",
      "1/1 [==============================] - 0s 53ms/step\n",
      "{'akie, Actinic keratoses and intraepithelial carcinomae': 0.0007738463464193046, 'bcc, basal cell carcinoma': 0.006003532093018293, 'bkl, benign keratosis-like lesions': 0.015736477449536324, 'df, dermatofibroma': 1.5180623449850827e-05, 'nv, melanocytic nevi': 0.9767210483551025, 'vasc, vascular lesions': 0.0007488361443392932, 'mel, melanoma': 1.0330002169212094e-06}\n"
     ]
    }
   ],
   "source": [
    "import gradio as gr\n",
    "\n",
    "#Lauch website\n",
    "demo = gr.Interface(fn=predict_img, \n",
    "             inputs=gr.inputs.Image(shape=(28,28)),\n",
    "             outputs=[gr.outputs.Label(num_top_classes=5), gr.outputs.Label(num_top_classes=1)]\n",
    "             )\n",
    "demo.launch(debug=True)"
   ]
  },
  {
   "cell_type": "code",
   "execution_count": null,
   "id": "ea01d9bd",
   "metadata": {},
   "outputs": [],
   "source": []
  }
 ],
 "metadata": {
  "kernelspec": {
   "display_name": "Python 3 (ipykernel)",
   "language": "python",
   "name": "python3"
  },
  "language_info": {
   "codemirror_mode": {
    "name": "ipython",
    "version": 3
   },
   "file_extension": ".py",
   "mimetype": "text/x-python",
   "name": "python",
   "nbconvert_exporter": "python",
   "pygments_lexer": "ipython3",
   "version": "3.9.7"
  }
 },
 "nbformat": 4,
 "nbformat_minor": 5
}
